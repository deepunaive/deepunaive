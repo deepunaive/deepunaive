{
  "metadata": {
    "kernelspec": {
      "name": "xpython",
      "display_name": "Python 3.13 (XPython)",
      "language": "python"
    },
    "language_info": {
      "file_extension": ".py",
      "mimetype": "text/x-python",
      "name": "python",
      "version": "3.13.1"
    },
    "colab": {
      "provenance": [],
      "include_colab_link": true
    }
  },
  "nbformat_minor": 5,
  "nbformat": 4,
  "cells": [
    {
      "cell_type": "markdown",
      "metadata": {
        "id": "view-in-github",
        "colab_type": "text"
      },
      "source": [
        "<a href=\"https://colab.research.google.com/github/deepunaive/deepunaive/blob/main/start.ipynb\" target=\"_parent\"><img src=\"https://colab.research.google.com/assets/colab-badge.svg\" alt=\"Open In Colab\"/></a>"
      ]
    },
    {
      "id": "b4be1ba0-d5b6-4305-921a-6ef77f547900",
      "cell_type": "code",
      "source": [
        "print(\"hello\")"
      ],
      "metadata": {
        "trusted": true,
        "colab": {
          "base_uri": "https://localhost:8080/"
        },
        "id": "b4be1ba0-d5b6-4305-921a-6ef77f547900",
        "outputId": "912caa97-d007-4d85-da49-e7543232e77b"
      },
      "outputs": [
        {
          "output_type": "stream",
          "name": "stdout",
          "text": [
            "hello\n"
          ]
        }
      ],
      "execution_count": 1
    },
    {
      "id": "141fc3b2-2cdc-454c-b0df-4d687050e036",
      "cell_type": "code",
      "source": [
        "print(\"hello\")"
      ],
      "metadata": {
        "trusted": true,
        "colab": {
          "base_uri": "https://localhost:8080/"
        },
        "id": "141fc3b2-2cdc-454c-b0df-4d687050e036",
        "outputId": "d5551341-21f8-4576-a981-f0656958d161"
      },
      "outputs": [
        {
          "output_type": "stream",
          "name": "stdout",
          "text": [
            "hello\n"
          ]
        }
      ],
      "execution_count": 2
    },
    {
      "id": "a9098776-fe6b-4837-814d-465dee6f6271",
      "cell_type": "code",
      "source": [
        "fruit_colors = {\n",
        "    \"apple\": \"red\",\n",
        "    \"banana\": \"yellow\",\n",
        "    \"grape\": \"purple\",\n",
        "    \"orange\": \"orange\",\n",
        "    \"strawberry\": \"red\"\n",
        "}\n",
        "\n",
        "print(fruit_colors)"
      ],
      "metadata": {
        "trusted": true,
        "colab": {
          "base_uri": "https://localhost:8080/"
        },
        "id": "a9098776-fe6b-4837-814d-465dee6f6271",
        "outputId": "78452d38-3eca-4329-bc6a-90dd283ee643"
      },
      "outputs": [
        {
          "output_type": "stream",
          "name": "stdout",
          "text": [
            "{'apple': 'red', 'banana': 'yellow', 'grape': 'purple', 'orange': 'orange', 'strawberry': 'red'}\n"
          ]
        }
      ],
      "execution_count": 4
    },
    {
      "cell_type": "code",
      "metadata": {
        "colab": {
          "base_uri": "https://localhost:8080/"
        },
        "id": "a6b633ce",
        "outputId": "f030fb12-44ea-40cc-9e81-2e99d3ce587e"
      },
      "source": [
        "import timeit\n",
        "\n",
        "# Method 1: Using math.sqrt()\n",
        "def divide_or_square_math(number):\n",
        "  if number % 5 == 0:\n",
        "    import math\n",
        "    return math.sqrt(number)\n",
        "  else:\n",
        "    return number % 5\n",
        "\n",
        "# Method 2: Using ** 0.5\n",
        "def divide_or_square_exponent(number):\n",
        "  if number % 5 == 0:\n",
        "    return number ** 0.5\n",
        "  else:\n",
        "    return number % 5\n",
        "\n",
        "# Time the execution of both functions\n",
        "number_to_test = 10000 # Choose a number divisible by 5 for square root calculation\n",
        "num_iterations = 10000 # Number of times to run the test\n",
        "\n",
        "time_math = timeit.timeit(lambda: divide_or_square_math(number_to_test), number=num_iterations)\n",
        "time_exponent = timeit.timeit(lambda: divide_or_square_exponent(number_to_test), number=num_iterations)\n",
        "diff = time_math - time_exponent\n",
        "print(f\"Time taken using math.sqrt(): {time_math:.6f} seconds\")\n",
        "print(f\"Time taken using ** 0.5: {time_exponent:.6f} seconds\")\n",
        "print(f\"Time diff is: {diff:.6f} seconds\")\n",
        "# Compare the times\n",
        "if time_math < time_exponent:\n",
        "  print(\"Using math.sqrt() is faster.\")\n",
        "elif time_exponent < time_math:\n",
        "  print(\"Using ** 0.5 is faster.\")\n",
        "else:\n",
        "  print(\"Both methods take approximately the same amount of time.\")"
      ],
      "id": "a6b633ce",
      "execution_count": 9,
      "outputs": [
        {
          "output_type": "stream",
          "name": "stdout",
          "text": [
            "Time taken using math.sqrt(): 0.008559 seconds\n",
            "Time taken using ** 0.5: 0.003400 seconds\n",
            "Time diff is: 0.005160 seconds\n",
            "Using ** 0.5 is faster.\n"
          ]
        }
      ]
    },
    {
      "cell_type": "code",
      "source": [
        "def convert_add(data):\n",
        "  sum =0\n",
        "  new_list=[]\n",
        "  for item in data:\n",
        "    sum = sum + int(item)\n",
        "    new_list.append(int(item))\n",
        "  return sum,new_list\n",
        "convert_add(['1','2','3','4'])"
      ],
      "metadata": {
        "colab": {
          "base_uri": "https://localhost:8080/"
        },
        "id": "EBSFOq0asKMv",
        "outputId": "2c762a4b-037b-46e7-97ea-f02ef8216cf5"
      },
      "id": "EBSFOq0asKMv",
      "execution_count": 12,
      "outputs": [
        {
          "output_type": "execute_result",
          "data": {
            "text/plain": [
              "(10, [1, 2, 3, 4])"
            ]
          },
          "metadata": {},
          "execution_count": 12
        }
      ]
    },
    {
      "cell_type": "code",
      "source": [
        "def register_check(item):\n",
        "  numberOfStudent = 0\n",
        "  for name,data in item.items():\n",
        "    if data =='yes':\n",
        "      numberOfStudent += 1 # Corrected increment\n",
        "  return numberOfStudent\n",
        "register_check({'Tom':'yes','Mark':'no','Mary':'yes'})"
      ],
      "metadata": {
        "colab": {
          "base_uri": "https://localhost:8080/"
        },
        "id": "kGXrjkgyttJp",
        "outputId": "b7c4b011-8842-40da-95e7-0e99bbc72418"
      },
      "id": "kGXrjkgyttJp",
      "execution_count": 15,
      "outputs": [
        {
          "output_type": "execute_result",
          "data": {
            "text/plain": [
              "2"
            ]
          },
          "metadata": {},
          "execution_count": 15
        }
      ]
    },
    {
      "cell_type": "code",
      "source": [
        "def only_floats(a, b):\n",
        "  \"\"\"\n",
        "  Checks if the inputs are floats and returns the count of floats.\n",
        "\n",
        "  Args:\n",
        "    a: The first input.\n",
        "    b: The second input.\n",
        "\n",
        "  Returns:\n",
        "    2 if both are floats, 1 if only one is a float, and 0 if neither is a float.\n",
        "  \"\"\"\n",
        "  float_count = 0\n",
        "  if type(a) == float:\n",
        "    float_count += 1\n",
        "  if type(b) == float:\n",
        "    float_count += 1\n",
        "  return float_count\n",
        "\n",
        "only_floats(1.0, 20)"
      ],
      "metadata": {
        "colab": {
          "base_uri": "https://localhost:8080/"
        },
        "id": "YRFvf8psweiD",
        "outputId": "a8ff353f-1e58-43cd-98b1-9aa4f963a8c5"
      },
      "id": "YRFvf8psweiD",
      "execution_count": 21,
      "outputs": [
        {
          "output_type": "execute_result",
          "data": {
            "text/plain": [
              "1"
            ]
          },
          "metadata": {},
          "execution_count": 21
        }
      ]
    },
    {
      "cell_type": "code",
      "metadata": {
        "colab": {
          "base_uri": "https://localhost:8080/"
        },
        "id": "7b8453d2",
        "outputId": "6a90340d-c2a1-41b6-b86d-b2d4a7c665e6"
      },
      "source": [
        "def my_discount():\n",
        "  \"\"\"\n",
        "  Asks the user for the price and discount percentage of a product,\n",
        "  calculates the price after the discount, and returns the result.\n",
        "\n",
        "  Returns:\n",
        "    The price of the product after the discount is applied.\n",
        "  \"\"\"\n",
        "  try:\n",
        "    price = float(input(\"Enter the price of the product: \"))\n",
        "    discount_percentage = float(input(\"Enter the discount percentage: \"))\n",
        "\n",
        "    if discount_percentage < 0 or discount_percentage > 100:\n",
        "      print(\"Invalid discount percentage. Please enter a value between 0 and 100.\")\n",
        "      return None # Or raise an error\n",
        "\n",
        "    discount_amount = (discount_percentage / 100) * price\n",
        "    price_after_discount = price - discount_amount\n",
        "\n",
        "    return price_after_discount\n",
        "\n",
        "  except ValueError:\n",
        "    print(\"Invalid input. Please enter numeric values for price and discount.\")\n",
        "    return None # Or raise an error\n",
        "\n",
        "# Example usage:\n",
        "# discounted_price = my_discount()\n",
        "# if discounted_price is not None:\n",
        "#   print(f\"The price after discount is: {discounted_price}\")\n",
        "discounted_price = my_discount()\n",
        "print(discounted_price)"
      ],
      "id": "7b8453d2",
      "execution_count": 24,
      "outputs": [
        {
          "output_type": "stream",
          "name": "stdout",
          "text": [
            "Enter the price of the product: 123\n",
            "Enter the discount percentage: 52\n",
            "59.04\n"
          ]
        }
      ]
    },
    {
      "cell_type": "code",
      "source": [],
      "metadata": {
        "id": "-EsVBETKxqzl"
      },
      "id": "-EsVBETKxqzl",
      "execution_count": null,
      "outputs": []
    }
  ]
}